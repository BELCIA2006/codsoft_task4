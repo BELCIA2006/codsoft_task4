{
 "cells": [
  {
   "cell_type": "code",
   "execution_count": 1,
   "id": "16d45c35-d741-479f-accc-4708f3c24a05",
   "metadata": {},
   "outputs": [
    {
     "name": "stdout",
     "output_type": "stream",
     "text": [
      "=== Rock-Paper-Scissors Game ===\n"
     ]
    },
    {
     "name": "stdin",
     "output_type": "stream",
     "text": [
      "\n",
      "Choose rock, paper, or scissors:  paper\n"
     ]
    },
    {
     "name": "stdout",
     "output_type": "stream",
     "text": [
      "You chose: paper\n",
      "Computer chose: scissors\n",
      "Computer wins this round!\n",
      "Score -> You: 0 | Computer: 1\n"
     ]
    },
    {
     "name": "stdin",
     "output_type": "stream",
     "text": [
      "Do you want to play again? (yes/no):  yes\n",
      "\n",
      "Choose rock, paper, or scissors:  rock\n"
     ]
    },
    {
     "name": "stdout",
     "output_type": "stream",
     "text": [
      "You chose: rock\n",
      "Computer chose: scissors\n",
      "You win this round!\n",
      "Score -> You: 1 | Computer: 1\n"
     ]
    },
    {
     "name": "stdin",
     "output_type": "stream",
     "text": [
      "Do you want to play again? (yes/no):  yes\n",
      "\n",
      "Choose rock, paper, or scissors:  paper\n"
     ]
    },
    {
     "name": "stdout",
     "output_type": "stream",
     "text": [
      "You chose: paper\n",
      "Computer chose: paper\n",
      "It's a tie!\n",
      "Score -> You: 1 | Computer: 1\n"
     ]
    },
    {
     "name": "stdin",
     "output_type": "stream",
     "text": [
      "Do you want to play again? (yes/no):  yes\n",
      "\n",
      "Choose rock, paper, or scissors:  scissors\n"
     ]
    },
    {
     "name": "stdout",
     "output_type": "stream",
     "text": [
      "You chose: scissors\n",
      "Computer chose: rock\n",
      "Computer wins this round!\n",
      "Score -> You: 1 | Computer: 2\n"
     ]
    },
    {
     "name": "stdin",
     "output_type": "stream",
     "text": [
      "Do you want to play again? (yes/no):  no\n"
     ]
    },
    {
     "name": "stdout",
     "output_type": "stream",
     "text": [
      "\n",
      "=== Final Score ===\n",
      "You: 1 | Computer: 2\n",
      " Computer wins overall!\n"
     ]
    }
   ],
   "source": [
    "import random\n",
    "\n",
    "print(\"=== Rock-Paper-Scissors Game ===\")\n",
    "\n",
    "user_score = 0\n",
    "computer_score = 0\n",
    "\n",
    "choices = [\"rock\", \"paper\", \"scissors\"]\n",
    "\n",
    "while True:\n",
    "    user_choice = input(\"\\nChoose rock, paper, or scissors: \").lower()\n",
    "    \n",
    "    if user_choice not in choices:\n",
    "        print(\"Invalid choice! Please choose rock, paper, or scissors.\")\n",
    "        continue\n",
    "    \n",
    "    computer_choice = random.choice(choices)\n",
    "    \n",
    "    print(f\"You chose: {user_choice}\")\n",
    "    print(f\"Computer chose: {computer_choice}\")\n",
    "    \n",
    "    if user_choice == computer_choice:\n",
    "        print(\"It's a tie!\")\n",
    "    elif (\n",
    "        (user_choice == \"rock\" and computer_choice == \"scissors\") or\n",
    "        (user_choice == \"scissors\" and computer_choice == \"paper\") or\n",
    "        (user_choice == \"paper\" and computer_choice == \"rock\")\n",
    "    ):\n",
    "        print(\"You win this round!\")\n",
    "        user_score += 1\n",
    "    else:\n",
    "        print(\"Computer wins this round!\")\n",
    "        computer_score += 1\n",
    "    \n",
    "    print(f\"Score -> You: {user_score} | Computer: {computer_score}\")\n",
    "    \n",
    "    play_again = input(\"Do you want to play again? (yes/no): \").lower()\n",
    "    if play_again != \"yes\":\n",
    "        print(\"\\n=== Final Score ===\")\n",
    "        print(f\"You: {user_score} | Computer: {computer_score}\")\n",
    "        if user_score > computer_score:\n",
    "            print(\" You are the overall winner!\")\n",
    "        elif user_score < computer_score:\n",
    "            print(\" Computer wins overall!\")\n",
    "        else:\n",
    "            print(\" It's an overall tie!\")\n",
    "        break"
   ]
  },
  {
   "cell_type": "code",
   "execution_count": null,
   "id": "082d9a9a-022d-4c59-8ed9-b9afddf9c9a2",
   "metadata": {},
   "outputs": [],
   "source": []
  }
 ],
 "metadata": {
  "kernelspec": {
   "display_name": "Python 3 (ipykernel)",
   "language": "python",
   "name": "python3"
  },
  "language_info": {
   "codemirror_mode": {
    "name": "ipython",
    "version": 3
   },
   "file_extension": ".py",
   "mimetype": "text/x-python",
   "name": "python",
   "nbconvert_exporter": "python",
   "pygments_lexer": "ipython3",
   "version": "3.12.7"
  }
 },
 "nbformat": 4,
 "nbformat_minor": 5
}
